{
 "cells": [
  {
   "cell_type": "markdown",
   "metadata": {},
   "source": [
    "# Strawberry Classification\n",
    "\n",
    "<Initial explanation>"
   ]
  },
  {
   "cell_type": "markdown",
   "metadata": {},
   "source": [
    "# 1. Imports\n",
    "<Explain imports here>"
   ]
  },
  {
   "cell_type": "code",
   "execution_count": null,
   "metadata": {},
   "outputs": [],
   "source": [
    "import numpy as np\n",
    "from keras import backend as K\n",
    "from keras.preprocessing import image\n",
    "import os\n",
    "from keras.applications.vgg16 import VGG16\n",
    "from keras.applications.resnet import ResNet50\n",
    "from keras.application.mobilenet import MobileNet\n",
    "from keras import layers\n",
    "from keras import Model\n",
    "from keras import Sequential\n",
    "import matplotlib.pyplot as plt\n",
    "import json"
   ]
  },
  {
   "cell_type": "markdown",
   "metadata": {},
   "source": [
    "# 2. Data Normalization\n",
    "<Explain normalization here>"
   ]
  },
  {
   "cell_type": "code",
   "execution_count": null,
   "metadata": {},
   "outputs": [],
   "source": [
    "Data normalization code goes here."
   ]
  },
  {
   "cell_type": "markdown",
   "metadata": {},
   "source": [
    "# 3. Test / Training / Validation Set Formation\n",
    "<Explain the splitting of the data into the three sets>"
   ]
  },
  {
   "cell_type": "code",
   "execution_count": null,
   "metadata": {},
   "outputs": [],
   "source": [
    "Data split code goes here."
   ]
  },
  {
   "cell_type": "markdown",
   "metadata": {},
   "source": [
    "# 4. Convolutional Layers\n",
    "<Information about each of the architectures goes here>\n",
    "VGG16\n",
    "ResNet50\n",
    "AlexNet\n",
    "etc"
   ]
  },
  {
   "cell_type": "markdown",
   "metadata": {},
   "source": [
    "## VGG16\n",
    "Further explanation of the model. Explain the attachment of the SDN at the bottom and why freezing the weights is important / what it achieves"
   ]
  },
  {
   "cell_type": "code",
   "execution_count": null,
   "metadata": {},
   "outputs": [],
   "source": [
    "# Build VGG16 model\n",
    "def vgg_build_model():\n",
    "    set_trainable = False\n",
    "    m = Sequential()\n",
    "    conv_base = VGG16(weights='imagenet', include_top=False, input_shape=(224, 224, 3))\n",
    "    for layer in conv_base.layers:\n",
    "        if layer.name == 'block_conv1':\n",
    "            set_trainable = True\n",
    "        if set_trainable:\n",
    "            layer.trainable = True\n",
    "        else:\n",
    "            layer.trainable = False\n",
    "    m.add(conv_base)\n",
    "\n",
    "    # Custom Shallow Dense Network\n",
    "    m.add(layers.Flatten())\n",
    "    m.add(layers.Dense(256, activation='relu'))\n",
    "    m.add(layers.Dropout(0.5))\n",
    "    m.add(layers.Dense(2, activation='heaviside'))\n",
    "    return m"
   ]
  },
  {
   "cell_type": "markdown",
   "metadata": {},
   "source": [
    "## ResNet\n",
    "Further explanation of the model. Explain the attachment of the SDN at the bottom and why freezing the weights is important / what it achieves"
   ]
  },
  {
   "cell_type": "code",
   "execution_count": null,
   "metadata": {},
   "outputs": [],
   "source": [
    "# Build ResNet50 model\n",
    "def res_build_model():\n",
    "    m = Sequential()\n",
    "    conv_base = ResNet50(weights='imagenet', include_top=False, input_shape=(224, 224, 3))\n",
    "    for layer in conv_base.layers:\n",
    "        layer.trainable = False\n",
    "    m.add(conv_base)\n",
    "\n",
    "    # Custom Shallow Dense Network\n",
    "    m.add(layers.Flatten())\n",
    "    m.add(layers.Dense(256, activation='relu'))\n",
    "    m.add(layers.Dropout(0.5))\n",
    "    m.add(layers.Dense(5, activation='heaviside'))\n",
    "    return m"
   ]
  },
  {
   "cell_type": "markdown",
   "metadata": {},
   "source": [
    "## AlexNet\n",
    "Further explanation of the model. Explain the attachment of the SDN at the bottom and why freezing the weights is important / what it achieves"
   ]
  },
  {
   "cell_type": "code",
   "execution_count": null,
   "metadata": {},
   "outputs": [],
   "source": [
    "def mobile_build_model():\n",
    "    m = Sequential()\n",
    "    conv_base = MobileNet(weights='imagenet', include_top=False, input_shape=(224, 224, 3))\n",
    "    for layer in conv_base.layers:\n",
    "        layer.trainable = False\n",
    "    m.add(conv_base)\n",
    "\n",
    "    # Custom Shallow Dense Network\n",
    "    m.add(layers.Flatten())\n",
    "    m.add(layers.Dense(256, activation='relu'))\n",
    "    m.add(layers.Dropout(0.5))\n",
    "    m.add(layers.Dense(5, activation='heaviside'))\n",
    "    return m"
   ]
  },
  {
   "cell_type": "markdown",
   "metadata": {},
   "source": [
    "# 5. Data Augmentation\n",
    "<Explain the augmentation phase, augmentation params, generators, what each param does, etc>"
   ]
  },
  {
   "cell_type": "code",
   "execution_count": null,
   "metadata": {},
   "outputs": [],
   "source": [
    "# Set up generators train_gen and val_gen\n",
    "train_datagen = image.ImageDataGenerator(\n",
    "    rotation_range=10,\n",
    "    width_shift_range=0.1,\n",
    "    height_shift_range=0.1,\n",
    "    shear_range=0.1,\n",
    "    zoom_range=0.1,\n",
    "    horizontal_flip=True,\n",
    "    fill_mode='nearest')\n",
    "\n",
    "val_datagen = image.ImageDataGenerator()\n",
    "\n",
    "dir_path = os.path.dirname(os.path.realpath(__file__))\n",
    "train_dir = os.path.join(dir_path, 'train')\n",
    "val_dir = os.path.join(dir_path, 'validation')\n",
    "\n",
    "train_gen = train_datagen.flow_from_directory(\n",
    "    train_dir,\n",
    "    target_size=(224, 224),\n",
    "    batch_size=32,\n",
    "    class_mode='binary')\n",
    "\n",
    "val_gen = val_datagen.flow_from_directory(\n",
    "    val_dir,\n",
    "    target_size=(224, 224),\n",
    "    batch_size=32,\n",
    "    class_mode='binary')"
   ]
  },
  {
   "cell_type": "markdown",
   "metadata": {},
   "source": [
    "# 6. Callback\n",
    "<Explain what it does, how it works, why it's important for training>"
   ]
  },
  {
   "cell_type": "code",
   "execution_count": null,
   "metadata": {},
   "outputs": [],
   "source": [
    "# Establish a callback for overfitting detection\n",
    "es = EarlyStopping(monitor='val_acc', mode='max', verbose=0)\n",
    "callback_list = [es]"
   ]
  },
  {
   "cell_type": "markdown",
   "metadata": {},
   "source": [
    "# 7. Training\n",
    "<Explain how training works via generator>"
   ]
  },
  {
   "cell_type": "markdown",
   "metadata": {},
   "source": [
    "## VGG16: Initializing the Model\n",
    "<Explanation text about initializing and compiling the VGG16 model. Explain what the loss function and metrics are>"
   ]
  },
  {
   "cell_type": "code",
   "execution_count": null,
   "metadata": {},
   "outputs": [],
   "source": [
    "# VGG16 Model\n",
    "# Build the model and train using train_gen and val_gen\n",
    "model = vgg_build_model()\n",
    "model.compile(optimizer='rmsprop', loss='binary_crossentropy', metrics=['acc'])"
   ]
  },
  {
   "cell_type": "markdown",
   "metadata": {},
   "source": [
    "## VGG16: Training the Model\n",
    "<This is where VGG16 is trained. Explain what the various hyperparams are and what they do (steps_per_epoch, epochs, etc) and why we chose them this way>"
   ]
  },
  {
   "cell_type": "code",
   "execution_count": null,
   "metadata": {},
   "outputs": [],
   "source": [
    "# Train the model using the generator\n",
    "history = model.fit_generator(train_gen,\n",
    "                              steps_per_epoch=100,\n",
    "                              epochs=10,\n",
    "                              validation_data=val_gen,\n",
    "                              callbacks=callback_list,\n",
    "                              validation_steps=32)\n",
    "model.save('vgg1_strawberry.h5')"
   ]
  },
  {
   "cell_type": "markdown",
   "metadata": {},
   "source": [
    "## VGG16: Plotting the Results\n",
    "<This is where the training results from the VGG16 run are plotted with PyPlot. Explain the significance of the results and what the code does>"
   ]
  },
  {
   "cell_type": "code",
   "execution_count": null,
   "metadata": {},
   "outputs": [],
   "source": [
    "# Plot the results\n",
    "acc = history.history['acc']\n",
    "val_acc = history.history['val_acc']\n",
    "loss = history.history['loss']\n",
    "val_loss = history.history['val_loss']\n",
    "\n",
    "epochs = range(len(acc))\n",
    "plt.plot(epochs, acc, 'bo', label='Training acc')\n",
    "plt.plot(epochs, val_acc, 'b', label='Validation acc')\n",
    "plt.title('VGG16 Training and Validation accuracy')\n",
    "plt.legend()\n",
    "\n",
    "plt.figure()\n",
    "\n",
    "plt.plot(epochs, loss, 'bo', label='Training loss')\n",
    "plt.plot(epochs, val_loss, 'b', label='Validation loss')\n",
    "plt.title('VGG16 Training and Validation loss')\n",
    "plt.legend()\n",
    "\n",
    "plt.show()"
   ]
  },
  {
   "cell_type": "markdown",
   "metadata": {},
   "source": [
    "## ResNet50: Initializing the Model\n",
    "<Explanation text about initializing and compiling the ResNet50 model. Explain what the loss function and metrics are>"
   ]
  },
  {
   "cell_type": "code",
   "execution_count": null,
   "metadata": {},
   "outputs": [],
   "source": [
    "# ResNet50 Model\n",
    "# Build the model and train using train_gen and val_gen\n",
    "model = res_build_model()\n",
    "model.compile(optimizer='rmsprop', loss='binary_crossentropy', metrics=['acc'])"
   ]
  },
  {
   "cell_type": "markdown",
   "metadata": {},
   "source": [
    "## ResNet50: Training the Model\n",
    "<This is where ResNet50 is trained. Explain what the various hyperparams are and what they do (steps_per_epoch, epochs, etc) and why we chose them this way>"
   ]
  },
  {
   "cell_type": "code",
   "execution_count": null,
   "metadata": {},
   "outputs": [],
   "source": [
    "# Train the model using the generator\n",
    "history = model.fit_generator(train_gen,\n",
    "                              steps_per_epoch=100,\n",
    "                              epochs=10,\n",
    "                              validation_data=val_gen,\n",
    "                              callbacks=callback_list,\n",
    "                              validation_steps=32)\n",
    "model.save('res_strawberry.h5')"
   ]
  },
  {
   "cell_type": "markdown",
   "metadata": {},
   "source": [
    "## ResNet50: Plotting the Results\n",
    "<This is where the training results from the ResNet50 run are plotted with PyPlot. Explain the significance of the results and what the code does>"
   ]
  },
  {
   "cell_type": "code",
   "execution_count": null,
   "metadata": {},
   "outputs": [],
   "source": [
    "# Plot the results\n",
    "acc = history.history['acc']\n",
    "val_acc = history.history['val_acc']\n",
    "loss = history.history['loss']\n",
    "val_loss = history.history['val_loss']\n",
    "\n",
    "epochs = range(len(acc))\n",
    "plt.plot(epochs, acc, 'bo', label='Training acc')\n",
    "plt.plot(epochs, val_acc, 'b', label='Validation acc')\n",
    "plt.title('ResNet Training and Validation accuracy')\n",
    "plt.legend()\n",
    "\n",
    "plt.figure()\n",
    "\n",
    "plt.plot(epochs, loss, 'bo', label='Training loss')\n",
    "plt.plot(epochs, val_loss, 'b', label='Validation loss')\n",
    "plt.title('ResNet Training and Validation loss')\n",
    "plt.legend()\n",
    "\n",
    "plt.show()"
   ]
  },
  {
   "cell_type": "markdown",
   "metadata": {},
   "source": [
    "## AlexNet: Initializing the Model\n",
    "<Explanation text about initializing and compiling the AlexNet model. Explain what the loss function and metrics are>"
   ]
  },
  {
   "cell_type": "code",
   "execution_count": null,
   "metadata": {},
   "outputs": [],
   "source": [
    "# Build the model and train using train_gen and val_gen\n",
    "model = mobile_build_model()\n",
    "model.compile(optimizer='rmsprop', loss='binary_crossentropy', metrics=['acc'])"
   ]
  },
  {
   "cell_type": "markdown",
   "metadata": {},
   "source": [
    "## AlexNet: Training the Model\n",
    "<This is where AlexNet is trained. Explain what the various hyperparams are and what they do (steps_per_epoch, epochs, etc) and why we chose them this way>"
   ]
  },
  {
   "cell_type": "code",
   "execution_count": null,
   "metadata": {},
   "outputs": [],
   "source": [
    "history = model.fit_generator(train_gen,\n",
    "                              steps_per_epoch=100,\n",
    "                              epochs=10,\n",
    "                              validation_data=val_gen,\n",
    "                              callbacks=callback_list,\n",
    "                              validation_steps=32)\n",
    "model.save('mobile_strawberry.h5')"
   ]
  },
  {
   "cell_type": "markdown",
   "metadata": {},
   "source": [
    "## AlexNet: Plotting the Results\n",
    "<This is where the training results from the AlexNet run are plotted with PyPlot. Explain the significance of the results and what the code does>"
   ]
  },
  {
   "cell_type": "code",
   "execution_count": null,
   "metadata": {},
   "outputs": [],
   "source": [
    "# Plot the results\n",
    "acc = history.history['acc']\n",
    "val_acc = history.history['val_acc']\n",
    "loss = history.history['loss']\n",
    "val_loss = history.history['val_loss']\n",
    "\n",
    "epochs = range(len(acc))\n",
    "plt.plot(epochs, acc, 'bo', label='Training acc')\n",
    "plt.plot(epochs, val_acc, 'b', label='Validation acc')\n",
    "plt.title('MobileNet Training and Validation accuracy')\n",
    "plt.legend()\n",
    "\n",
    "plt.figure()\n",
    "\n",
    "plt.plot(epochs, loss, 'bo', label='Training loss')\n",
    "plt.plot(epochs, val_loss, 'b', label='Validation loss')\n",
    "plt.title('MobileNet Training and Validation loss')\n",
    "plt.legend()\n",
    "\n",
    "plt.show()"
   ]
  },
  {
   "cell_type": "markdown",
   "metadata": {},
   "source": [
    "# Conclusion\n",
    "<Closing remarks, observations, intuition, etc>"
   ]
  }
 ],
 "metadata": {
  "kernelspec": {
   "display_name": "Python 3",
   "language": "python",
   "name": "python3"
  },
  "language_info": {
   "codemirror_mode": {
    "name": "ipython",
    "version": 3
   },
   "file_extension": ".py",
   "mimetype": "text/x-python",
   "name": "python",
   "nbconvert_exporter": "python",
   "pygments_lexer": "ipython3",
   "version": "3.6.6"
  }
 },
 "nbformat": 4,
 "nbformat_minor": 2
}
